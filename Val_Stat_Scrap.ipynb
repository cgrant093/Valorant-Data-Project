{
 "cells": [
  {
   "cell_type": "code",
   "execution_count": 2,
   "id": "c5d79efe",
   "metadata": {},
   "outputs": [],
   "source": [
    "import requests\n",
    "import urllib.parse\n",
    "\n",
    "from ipywidgets import IntProgress\n",
    "from IPython.display import display\n",
    "import time\n",
    "\n",
    "import os\n",
    "\n",
    "import pandas as pd"
   ]
  },
  {
   "cell_type": "code",
   "execution_count": 1,
   "id": "35e6c2a8",
   "metadata": {},
   "outputs": [],
   "source": [
    "def get_matches(name, tag):\n",
    "    r = requests.get(f'https://api.henrikdev.xyz/valorant/v3/matches/na/{urllib.parse.quote(name)}/{urllib.parse.quote(tag)}')\n",
    "    \n",
    "    if r.status_code != 204:\n",
    "        try:\n",
    "            if ('data' in r.json().keys()):\n",
    "                return (r.json()['data'])\n",
    "        \n",
    "        except ValueError:\n",
    "            return None\n",
    "        \n",
    "        except ChunkedEncodingError:\n",
    "            return None\n",
    "        \n",
    "        except ConnectionError:\n",
    "            return None\n",
    "        \n",
    "        except ConnectTimeout:\n",
    "            return None\n",
    "        \n",
    "        except Exception:\n",
    "            return None"
   ]
  },
  {
   "cell_type": "code",
   "execution_count": 6,
   "id": "789f1651",
   "metadata": {},
   "outputs": [],
   "source": [
    "def get_MMR(name, tag):\n",
    "    \n",
    "    r = requests.get(f'https://api.henrikdev.xyz/valorant/v1/mmr/na/{urllib.parse.quote(name)}/{urllib.parse.quote(tag)}')\n",
    "    \n",
    "    if r.status_code != 204:\n",
    "        try:\n",
    "            if ('data' in r.json().keys()):\n",
    "                mmr = (r.json())['data']\n",
    "                return mmr['currenttierpatched']\n",
    "        \n",
    "        except ValueError:\n",
    "            return None\n",
    "        \n",
    "        except ChunkedEncodingError:\n",
    "            return None\n",
    "        \n",
    "        except ConnectionError:\n",
    "            return None\n",
    "        \n",
    "        except ConnectTimeout:\n",
    "            return None\n",
    "        \n",
    "        except Exception:\n",
    "            return None"
   ]
  },
  {
   "cell_type": "code",
   "execution_count": null,
   "id": "defac362",
   "metadata": {},
   "outputs": [],
   "source": [
    "def get_data(match):\n",
    "    \n",
    "    "
   ]
  },
  {
   "cell_type": "code",
   "execution_count": null,
   "id": "2e953b31",
   "metadata": {},
   "outputs": [],
   "source": [
    "def get_stats(name, tag):\n",
    "    rank = get_MMR(name, tag)\n",
    "    \n",
    "    matches = get_matches(name, tag)\n",
    "    \n",
    "    match_data = [get_data(match) for match in matches]\n",
    "    "
   ]
  },
  {
   "cell_type": "code",
   "execution_count": 3,
   "id": "6a6df32d",
   "metadata": {},
   "outputs": [],
   "source": [
    "def headshot_percentage(headshots, bodyshots, legshots):\n",
    "    total_shots = headshots + bodyshots + legshots\n",
    "    \n",
    "    if total_shots == 0:\n",
    "        return 0\n",
    "    \n",
    "    return headshots * 100 / (total_shots)"
   ]
  },
  {
   "cell_type": "code",
   "execution_count": 3,
   "id": "02d89e91",
   "metadata": {},
   "outputs": [
    {
     "name": "stdout",
     "output_type": "stream",
     "text": [
      "5\n",
      "dict_keys(['metadata', 'players', 'teams', 'rounds', 'kills'])\n"
     ]
    }
   ],
   "source": [
    "matches = get_matches('beta4days', 'dogw')\n",
    "print(len(matches))\n",
    "print(matches[0].keys())"
   ]
  },
  {
   "cell_type": "code",
   "execution_count": 5,
   "id": "82d2c135",
   "metadata": {},
   "outputs": [
    {
     "name": "stdout",
     "output_type": "stream",
     "text": [
      "dict_keys(['puuid', 'name', 'tag', 'team', 'level', 'character', 'currenttier', 'currenttier_patched', 'player_card', 'player_title', 'party_id', 'session_playtime', 'behavior', 'platform', 'ability_casts', 'assets', 'stats', 'economy', 'damage_made', 'damage_received'])\n"
     ]
    }
   ],
   "source": [
    "all_players = matches[0]['players']['all_players'] \n",
    "print(all_players[0].keys())"
   ]
  },
  {
   "cell_type": "code",
   "execution_count": 20,
   "id": "206cd1ee",
   "metadata": {},
   "outputs": [
    {
     "name": "stdout",
     "output_type": "stream",
     "text": [
      "{'c_cast': 12, 'q_cast': 4, 'e_cast': 10, 'x_cast': 3}\n"
     ]
    }
   ],
   "source": [
    "print(all_players[0]['ability_casts'])"
   ]
  },
  {
   "cell_type": "code",
   "execution_count": 19,
   "id": "4f535768",
   "metadata": {},
   "outputs": [
    {
     "name": "stdout",
     "output_type": "stream",
     "text": [
      "{'score': 4469, 'kills': 16, 'deaths': 15, 'assists': 4, 'bodyshots': 49, 'headshots': 8, 'legshots': 1}\n"
     ]
    }
   ],
   "source": [
    "print(all_players[0]['stats'])"
   ]
  },
  {
   "cell_type": "code",
   "execution_count": null,
   "id": "49031190",
   "metadata": {},
   "outputs": [],
   "source": [
    "print(all_players[0]['name'])\n",
    "\n",
    "hs=all_players[0]['stats']['headshots']\n",
    "bs=all_players[0]['stats']['bodyshots']\n",
    "ls=all_players[0]['stats']['legshots']\n",
    "\n",
    "\n",
    "\n",
    "print(headshot_percentage(hs, bs, ls))"
   ]
  },
  {
   "cell_type": "code",
   "execution_count": null,
   "id": "195f2afc",
   "metadata": {},
   "outputs": [],
   "source": []
  },
  {
   "cell_type": "code",
   "execution_count": null,
   "id": "9f9e264e",
   "metadata": {},
   "outputs": [],
   "source": []
  },
  {
   "cell_type": "code",
   "execution_count": null,
   "id": "4bea0ffa",
   "metadata": {},
   "outputs": [],
   "source": []
  },
  {
   "cell_type": "code",
   "execution_count": null,
   "id": "76e53dac",
   "metadata": {},
   "outputs": [],
   "source": []
  },
  {
   "cell_type": "code",
   "execution_count": null,
   "id": "08998447",
   "metadata": {},
   "outputs": [],
   "source": []
  }
 ],
 "metadata": {
  "kernelspec": {
   "display_name": "Python 3 (ipykernel)",
   "language": "python",
   "name": "python3"
  },
  "language_info": {
   "codemirror_mode": {
    "name": "ipython",
    "version": 3
   },
   "file_extension": ".py",
   "mimetype": "text/x-python",
   "name": "python",
   "nbconvert_exporter": "python",
   "pygments_lexer": "ipython3",
   "version": "3.9.2"
  }
 },
 "nbformat": 4,
 "nbformat_minor": 5
}
