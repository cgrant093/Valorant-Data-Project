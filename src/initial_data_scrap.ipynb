{
 "cells": [
  {
   "cell_type": "markdown",
   "id": "949820a1",
   "metadata": {},
   "source": [
    "# Initial data scrap and cleaning"
   ]
  },
  {
   "cell_type": "markdown",
   "id": "9bb3a95a",
   "metadata": {},
   "source": [
    "#### Import necessary modules"
   ]
  },
  {
   "cell_type": "code",
   "execution_count": 1,
   "id": "ef148843",
   "metadata": {},
   "outputs": [],
   "source": [
    "import os\n",
    "import numpy as np\n",
    "import pandas as pd\n",
    "\n",
    "from api_requests import get_rank, get_matches\n",
    "from remove_statistical_outliers import remove_stat_outliers\n",
    "from composite_stats import composite_player_stats\n",
    "from combine_and_expand_match_data import combine_match_dfs\n",
    "from graphs import plot_rank_distribution"
   ]
  },
  {
   "cell_type": "markdown",
   "id": "c943831f",
   "metadata": {},
   "source": [
    "### Make folder paths for data (and potentially a new subfolder)"
   ]
  },
  {
   "cell_type": "code",
   "execution_count": 2,
   "id": "45947d5c",
   "metadata": {},
   "outputs": [],
   "source": [
    "def make_folder(folder):\n",
    "    ## Check whether the specified path exists or not\n",
    "    isExist = os.path.exists(folder)\n",
    "    \n",
    "    if not isExist:\n",
    "        ## Create a new directory because it does not exist \n",
    "        os.makedirs(folder)\n",
    "        print(f\"The new directory, {folder}, was created!\")"
   ]
  },
  {
   "cell_type": "code",
   "execution_count": 3,
   "id": "b2ba00e4",
   "metadata": {},
   "outputs": [],
   "source": [
    "data_path = f'data/'\n",
    "#u_list = f'{data_path}lists/'\n",
    "plot_path = f'plots/'\n",
    "\n",
    "make_folder(data_path)\n",
    "make_folder(plot_path)"
   ]
  },
  {
   "cell_type": "markdown",
   "id": "6f517323",
   "metadata": {},
   "source": [
    "### Collect more users"
   ]
  },
  {
   "cell_type": "code",
   "execution_count": 6,
   "id": "3da601d3",
   "metadata": {},
   "outputs": [],
   "source": [
    "initial_set={\n",
    "        'me' : ('beta4days', 'dogw'),\n",
    "        'iron' : ('SEN Kyu', '9771'),\n",
    "        'bronze' : ('alam2881', 'NA111'),\n",
    "        'silver' : ('milk green tea', 'boba'),\n",
    "        'gold' : ('Tomato Taco', '5111'),\n",
    "        'platinum' : ('Symperion', '4KT'),\n",
    "        'diamond' : ('Kisuke', 'zzz'),\n",
    "        'immortal' : ('Toph', '00001'),\n",
    "        'radiant' : ('BabyJ', 'Halo'),\n",
    "}\n",
    "\n",
    "depth = 0"
   ]
  },
  {
   "cell_type": "markdown",
   "id": "95119854",
   "metadata": {},
   "source": [
    "### Find ranks for pre-existing lists of accounts"
   ]
  },
  {
   "cell_type": "code",
   "execution_count": 38,
   "id": "2bd5f4f1",
   "metadata": {},
   "outputs": [],
   "source": [
    "# compile usernames list into one dataframe\n",
    "files = [file for file in os.listdir(u_list) \n",
    "         if os.path.isfile(os.path.join(u_list, file))]\n",
    "\n",
    "accounts = pd.DataFrame()\n",
    "\n",
    "for file in files:\n",
    "    accounts = pd.concat(\n",
    "        [accounts, pd.read_csv(f'{u_list}{file}')])\n",
    "    \n",
    "accounts.columns = ['User', 'Tag']\n",
    "\n",
    "accounts = accounts.reset_index(drop=True)"
   ]
  },
  {
   "cell_type": "code",
   "execution_count": 39,
   "id": "38f5ddd9",
   "metadata": {
    "scrolled": true
   },
   "outputs": [
    {
     "data": {
      "text/html": [
       "<div>\n",
       "<style scoped>\n",
       "    .dataframe tbody tr th:only-of-type {\n",
       "        vertical-align: middle;\n",
       "    }\n",
       "\n",
       "    .dataframe tbody tr th {\n",
       "        vertical-align: top;\n",
       "    }\n",
       "\n",
       "    .dataframe thead th {\n",
       "        text-align: right;\n",
       "    }\n",
       "</style>\n",
       "<table border=\"1\" class=\"dataframe\">\n",
       "  <thead>\n",
       "    <tr style=\"text-align: right;\">\n",
       "      <th></th>\n",
       "      <th>User</th>\n",
       "      <th>Tag</th>\n",
       "    </tr>\n",
       "  </thead>\n",
       "  <tbody>\n",
       "    <tr>\n",
       "      <th>274977</th>\n",
       "      <td>DawnKeeeBalls</td>\n",
       "      <td>SLEEP</td>\n",
       "    </tr>\n",
       "    <tr>\n",
       "      <th>274978</th>\n",
       "      <td>tde</td>\n",
       "      <td>1234</td>\n",
       "    </tr>\n",
       "    <tr>\n",
       "      <th>274979</th>\n",
       "      <td>shogaN</td>\n",
       "      <td>LOVE</td>\n",
       "    </tr>\n",
       "    <tr>\n",
       "      <th>274980</th>\n",
       "      <td>FlyingPotato88</td>\n",
       "      <td>8844</td>\n",
       "    </tr>\n",
       "    <tr>\n",
       "      <th>274981</th>\n",
       "      <td>ChickenTheLord</td>\n",
       "      <td>Dumbr</td>\n",
       "    </tr>\n",
       "  </tbody>\n",
       "</table>\n",
       "</div>"
      ],
      "text/plain": [
       "                  User    Tag\n",
       "274977   DawnKeeeBalls  SLEEP\n",
       "274978             tde   1234\n",
       "274979          shogaN   LOVE\n",
       "274980  FlyingPotato88   8844\n",
       "274981  ChickenTheLord  Dumbr"
      ]
     },
     "execution_count": 39,
     "metadata": {},
     "output_type": "execute_result"
    }
   ],
   "source": [
    "accounts.tail(5)"
   ]
  },
  {
   "cell_type": "code",
   "execution_count": 29,
   "id": "ce0c61f9",
   "metadata": {},
   "outputs": [],
   "source": [
    "accounts_split = np.array_split(accounts, 1000) \n",
    "\n",
    "for i in range(0, len(accounts_split)):\n",
    "    df = accounts_split[i]\n",
    "    \n",
    "    df['Rank'] = df.apply(\n",
    "        lambda row: get_rank(row.User, row.Tag), \n",
    "        axis=1)\n",
    "    \n",
    "    df.to_csv(f'{rank_path}total_list_{i+1}.csv', index=False)"
   ]
  },
  {
   "cell_type": "markdown",
   "id": "dd25f136",
   "metadata": {},
   "source": [
    "#### Combine lists with ranks and drop the accounts with empty ranks"
   ]
  },
  {
   "cell_type": "code",
   "execution_count": 47,
   "id": "56e3070e",
   "metadata": {},
   "outputs": [
    {
     "name": "stdout",
     "output_type": "stream",
     "text": [
      "153966\n"
     ]
    },
    {
     "data": {
      "text/html": [
       "<div>\n",
       "<style scoped>\n",
       "    .dataframe tbody tr th:only-of-type {\n",
       "        vertical-align: middle;\n",
       "    }\n",
       "\n",
       "    .dataframe tbody tr th {\n",
       "        vertical-align: top;\n",
       "    }\n",
       "\n",
       "    .dataframe thead th {\n",
       "        text-align: right;\n",
       "    }\n",
       "</style>\n",
       "<table border=\"1\" class=\"dataframe\">\n",
       "  <thead>\n",
       "    <tr style=\"text-align: right;\">\n",
       "      <th></th>\n",
       "      <th>User</th>\n",
       "      <th>Tag</th>\n",
       "      <th>Rank</th>\n",
       "    </tr>\n",
       "  </thead>\n",
       "  <tbody>\n",
       "    <tr>\n",
       "      <th>153961</th>\n",
       "      <td>LonelyBagel</td>\n",
       "      <td>Mochi</td>\n",
       "      <td>Gold 1</td>\n",
       "    </tr>\n",
       "    <tr>\n",
       "      <th>153962</th>\n",
       "      <td>bagel</td>\n",
       "      <td>001</td>\n",
       "      <td>Immortal 1</td>\n",
       "    </tr>\n",
       "    <tr>\n",
       "      <th>153963</th>\n",
       "      <td>Blazin</td>\n",
       "      <td>pog</td>\n",
       "      <td>Diamond 1</td>\n",
       "    </tr>\n",
       "    <tr>\n",
       "      <th>153964</th>\n",
       "      <td>Little Bingster</td>\n",
       "      <td>NA1</td>\n",
       "      <td>Ascendant 1</td>\n",
       "    </tr>\n",
       "    <tr>\n",
       "      <th>153965</th>\n",
       "      <td>Counterparts</td>\n",
       "      <td>drunk</td>\n",
       "      <td>Ascendant 2</td>\n",
       "    </tr>\n",
       "  </tbody>\n",
       "</table>\n",
       "</div>"
      ],
      "text/plain": [
       "                   User    Tag         Rank\n",
       "153961      LonelyBagel  Mochi       Gold 1\n",
       "153962            bagel    001   Immortal 1\n",
       "153963           Blazin    pog    Diamond 1\n",
       "153964  Little Bingster    NA1  Ascendant 1\n",
       "153965     Counterparts  drunk  Ascendant 2"
      ]
     },
     "execution_count": 47,
     "metadata": {},
     "output_type": "execute_result"
    }
   ],
   "source": [
    "rank_df = pd.DataFrame()\n",
    "\n",
    "files = [file for file in os.listdir(rank_path) \n",
    "         if os.path.isfile(os.path.join(rank_path, file))]\n",
    "\n",
    "for file in files:\n",
    "    new_df = pd.read_csv(f'{rank_path}{file}')\n",
    "    new_df = new_df.dropna(how='any')\n",
    "    rank_df = pd.concat([rank_df, new_df])\n",
    "    \n",
    "rank_df = rank_df.drop_duplicates(subset=['User', 'Tag'], keep='last')\n",
    "rank_df = rank_df.reset_index(drop=True)\n",
    "\n",
    "rank_df.to_csv(f'{data_path}rank_total_list.csv', index=False)\n",
    "\n",
    "print(len(rank_df.index))\n",
    "rank_df.tail(5)"
   ]
  },
  {
   "cell_type": "markdown",
   "id": "ac474028",
   "metadata": {},
   "source": [
    "#### Plots current rank distribution"
   ]
  },
  {
   "cell_type": "code",
   "execution_count": 4,
   "id": "2e516759",
   "metadata": {},
   "outputs": [
    {
     "data": {
      "text/html": [
       "<div>\n",
       "<style scoped>\n",
       "    .dataframe tbody tr th:only-of-type {\n",
       "        vertical-align: middle;\n",
       "    }\n",
       "\n",
       "    .dataframe tbody tr th {\n",
       "        vertical-align: top;\n",
       "    }\n",
       "\n",
       "    .dataframe thead th {\n",
       "        text-align: right;\n",
       "    }\n",
       "</style>\n",
       "<table border=\"1\" class=\"dataframe\">\n",
       "  <thead>\n",
       "    <tr style=\"text-align: right;\">\n",
       "      <th></th>\n",
       "      <th>User</th>\n",
       "      <th>Tag</th>\n",
       "      <th>Rank</th>\n",
       "    </tr>\n",
       "  </thead>\n",
       "  <tbody>\n",
       "    <tr>\n",
       "      <th>153961</th>\n",
       "      <td>LonelyBagel</td>\n",
       "      <td>Mochi</td>\n",
       "      <td>Gold 1</td>\n",
       "    </tr>\n",
       "    <tr>\n",
       "      <th>153962</th>\n",
       "      <td>bagel</td>\n",
       "      <td>001</td>\n",
       "      <td>Immortal 1</td>\n",
       "    </tr>\n",
       "    <tr>\n",
       "      <th>153963</th>\n",
       "      <td>Blazin</td>\n",
       "      <td>pog</td>\n",
       "      <td>Diamond 1</td>\n",
       "    </tr>\n",
       "    <tr>\n",
       "      <th>153964</th>\n",
       "      <td>Little Bingster</td>\n",
       "      <td>NA1</td>\n",
       "      <td>Ascendant 1</td>\n",
       "    </tr>\n",
       "    <tr>\n",
       "      <th>153965</th>\n",
       "      <td>Counterparts</td>\n",
       "      <td>drunk</td>\n",
       "      <td>Ascendant 2</td>\n",
       "    </tr>\n",
       "  </tbody>\n",
       "</table>\n",
       "</div>"
      ],
      "text/plain": [
       "                   User    Tag         Rank\n",
       "153961      LonelyBagel  Mochi       Gold 1\n",
       "153962            bagel    001   Immortal 1\n",
       "153963           Blazin    pog    Diamond 1\n",
       "153964  Little Bingster    NA1  Ascendant 1\n",
       "153965     Counterparts  drunk  Ascendant 2"
      ]
     },
     "execution_count": 4,
     "metadata": {},
     "output_type": "execute_result"
    }
   ],
   "source": [
    "rank_df = pd.read_csv(f'{data_path}rank_total_list.csv')\n",
    "\n",
    "rank_df.tail(5)"
   ]
  },
  {
   "cell_type": "code",
   "execution_count": 5,
   "id": "0e2faa74",
   "metadata": {},
   "outputs": [
    {
     "data": {
      "image/png": "[encoded data removed]",
      "text/plain": [
       "<Figure size 900x350 with 1 Axes>"
      ]
     },
     "metadata": {},
     "output_type": "display_data"
    }
   ],
   "source": [
    "plot_rank_distribution(rank_df, plot_path, 'rank')"
   ]
  },
  {
   "cell_type": "markdown",
   "id": "4af69aaf",
   "metadata": {},
   "source": [
    "### Collect and filter match data"
   ]
  },
  {
   "cell_type": "code",
   "execution_count": null,
   "id": "06de4250",
   "metadata": {},
   "outputs": [],
   "source": [
    "rank_df = pd.read_csv(f'{data_path}rank_total_list.csv')\n",
    "\n",
    "rank_df_split = np.array_split(rank_df, 1000) \n",
    "\n",
    "for i in range(0, len(rank_df_split)):\n",
    "    df = rank_df_split[i]\n",
    "    df['Matches'] = df.apply(\n",
    "        lambda r: get_matches(r.User, r.Tag, 'competitive'), \n",
    "        axis=1)\n",
    "\n",
    "    # save each df\n",
    "    df.to_csv(f'{match_path}total_list_{i+1}.csv', index=False)"
   ]
  },
  {
   "cell_type": "markdown",
   "id": "5d6b0f5e",
   "metadata": {},
   "source": [
    "#### Combine lists with match data and drop the accounts with empty ranks"
   ]
  },
  {
   "cell_type": "code",
   "execution_count": null,
   "id": "03fc912f",
   "metadata": {},
   "outputs": [],
   "source": [
    "match_df = combine_match_dfs(data_path, match_path)\n",
    "\n",
    "match_df.tail(5)"
   ]
  },
  {
   "cell_type": "markdown",
   "id": "8b34bae5",
   "metadata": {},
   "source": [
    "#### Plots current rank distribution"
   ]
  },
  {
   "cell_type": "code",
   "execution_count": null,
   "id": "3037c80b",
   "metadata": {},
   "outputs": [],
   "source": [
    "match_df = pd.read_csv(f'{data_path}match_total_list.csv')\n",
    "\n",
    "df = composite_player_stats(match_df)"
   ]
  },
  {
   "cell_type": "code",
   "execution_count": 5,
   "id": "6f004837",
   "metadata": {},
   "outputs": [
    {
     "data": {
      "text/html": [
       "<div>\n",
       "<style scoped>\n",
       "    .dataframe tbody tr th:only-of-type {\n",
       "        vertical-align: middle;\n",
       "    }\n",
       "\n",
       "    .dataframe tbody tr th {\n",
       "        vertical-align: top;\n",
       "    }\n",
       "\n",
       "    .dataframe thead th {\n",
       "        text-align: right;\n",
       "    }\n",
       "</style>\n",
       "<table border=\"1\" class=\"dataframe\">\n",
       "  <thead>\n",
       "    <tr style=\"text-align: right;\">\n",
       "      <th></th>\n",
       "      <th>User</th>\n",
       "      <th>Tag</th>\n",
       "      <th>Rank</th>\n",
       "      <th>level</th>\n",
       "      <th>Position</th>\n",
       "      <th>avg_spent</th>\n",
       "      <th>avg_loadout</th>\n",
       "      <th>HS_perc</th>\n",
       "      <th>KD</th>\n",
       "      <th>avg_assists</th>\n",
       "      <th>avg_ability_usage</th>\n",
       "      <th>avg_score</th>\n",
       "      <th>avg_dmg_made</th>\n",
       "      <th>avg_dmg_rec</th>\n",
       "    </tr>\n",
       "  </thead>\n",
       "  <tbody>\n",
       "    <tr>\n",
       "      <th>432264</th>\n",
       "      <td>justinovah</td>\n",
       "      <td>000</td>\n",
       "      <td>Radiant</td>\n",
       "      <td>436.0</td>\n",
       "      <td>Initiator</td>\n",
       "      <td>2923.0</td>\n",
       "      <td>4073.0</td>\n",
       "      <td>30.188679</td>\n",
       "      <td>0.833333</td>\n",
       "      <td>0.187500</td>\n",
       "      <td>1.968750</td>\n",
       "      <td>175.593750</td>\n",
       "      <td>120.156250</td>\n",
       "      <td>134.218750</td>\n",
       "    </tr>\n",
       "    <tr>\n",
       "      <th>432265</th>\n",
       "      <td>justinovah</td>\n",
       "      <td>000</td>\n",
       "      <td>Radiant</td>\n",
       "      <td>436.0</td>\n",
       "      <td>Initiator</td>\n",
       "      <td>2558.0</td>\n",
       "      <td>3167.0</td>\n",
       "      <td>18.518519</td>\n",
       "      <td>0.666667</td>\n",
       "      <td>0.444444</td>\n",
       "      <td>2.222222</td>\n",
       "      <td>179.611111</td>\n",
       "      <td>104.722222</td>\n",
       "      <td>161.833333</td>\n",
       "    </tr>\n",
       "    <tr>\n",
       "      <th>432266</th>\n",
       "      <td>justinovah</td>\n",
       "      <td>000</td>\n",
       "      <td>Radiant</td>\n",
       "      <td>436.0</td>\n",
       "      <td>Initiator</td>\n",
       "      <td>2487.0</td>\n",
       "      <td>3969.0</td>\n",
       "      <td>36.666667</td>\n",
       "      <td>0.647059</td>\n",
       "      <td>0.461538</td>\n",
       "      <td>2.615385</td>\n",
       "      <td>134.153846</td>\n",
       "      <td>87.192308</td>\n",
       "      <td>122.038462</td>\n",
       "    </tr>\n",
       "    <tr>\n",
       "      <th>432267</th>\n",
       "      <td>Lelouch</td>\n",
       "      <td>Japan</td>\n",
       "      <td>Radiant</td>\n",
       "      <td>294.0</td>\n",
       "      <td>Duelist</td>\n",
       "      <td>2192.0</td>\n",
       "      <td>4144.0</td>\n",
       "      <td>19.354839</td>\n",
       "      <td>1.588235</td>\n",
       "      <td>0.192308</td>\n",
       "      <td>2.192308</td>\n",
       "      <td>284.615385</td>\n",
       "      <td>192.730769</td>\n",
       "      <td>128.000000</td>\n",
       "    </tr>\n",
       "    <tr>\n",
       "      <th>432268</th>\n",
       "      <td>Lelouch</td>\n",
       "      <td>Japan</td>\n",
       "      <td>Radiant</td>\n",
       "      <td>294.0</td>\n",
       "      <td>Duelist</td>\n",
       "      <td>1966.0</td>\n",
       "      <td>3903.0</td>\n",
       "      <td>20.454545</td>\n",
       "      <td>1.923077</td>\n",
       "      <td>0.157895</td>\n",
       "      <td>2.315789</td>\n",
       "      <td>366.052632</td>\n",
       "      <td>217.526316</td>\n",
       "      <td>122.000000</td>\n",
       "    </tr>\n",
       "  </tbody>\n",
       "</table>\n",
       "</div>"
      ],
      "text/plain": [
       "              User    Tag     Rank  level   Position  avg_spent  avg_loadout  \\\n",
       "432264  justinovah    000  Radiant  436.0  Initiator     2923.0       4073.0   \n",
       "432265  justinovah    000  Radiant  436.0  Initiator     2558.0       3167.0   \n",
       "432266  justinovah    000  Radiant  436.0  Initiator     2487.0       3969.0   \n",
       "432267     Lelouch  Japan  Radiant  294.0    Duelist     2192.0       4144.0   \n",
       "432268     Lelouch  Japan  Radiant  294.0    Duelist     1966.0       3903.0   \n",
       "\n",
       "          HS_perc        KD  avg_assists  avg_ability_usage   avg_score  \\\n",
       "432264  30.188679  0.833333     0.187500           1.968750  175.593750   \n",
       "432265  18.518519  0.666667     0.444444           2.222222  179.611111   \n",
       "432266  36.666667  0.647059     0.461538           2.615385  134.153846   \n",
       "432267  19.354839  1.588235     0.192308           2.192308  284.615385   \n",
       "432268  20.454545  1.923077     0.157895           2.315789  366.052632   \n",
       "\n",
       "        avg_dmg_made  avg_dmg_rec  \n",
       "432264    120.156250   134.218750  \n",
       "432265    104.722222   161.833333  \n",
       "432266     87.192308   122.038462  \n",
       "432267    192.730769   128.000000  \n",
       "432268    217.526316   122.000000  "
      ]
     },
     "execution_count": 5,
     "metadata": {},
     "output_type": "execute_result"
    }
   ],
   "source": [
    "# Remove statistical outliers from each rank\n",
    "df = remove_stat_outliers(df, data_path)\n",
    "\n",
    "df.tail()"
   ]
  },
  {
   "cell_type": "code",
   "execution_count": 7,
   "id": "971e10e7",
   "metadata": {
    "scrolled": false
   },
   "outputs": [
    {
     "data": {
      "image/png": "[encoded data removed]",
      "text/plain": [
       "<Figure size 900x350 with 1 Axes>"
      ]
     },
     "metadata": {},
     "output_type": "display_data"
    }
   ],
   "source": [
    "plot_rank_distribution(df, plot_path, 'clean')\n",
    "\n",
    "# fairly similiar to distribution found in https://tracker.gg/valorant/leaderboards/ranked/all/default?page=1"
   ]
  },
  {
   "cell_type": "code",
   "execution_count": 6,
   "id": "3d04cca6",
   "metadata": {},
   "outputs": [],
   "source": [
    "df = pd.read_csv(f'{data_path}cleaned_total_list.csv')"
   ]
  },
  {
   "cell_type": "code",
   "execution_count": null,
   "id": "d88495dc",
   "metadata": {},
   "outputs": [],
   "source": []
  }
 ],
 "metadata": {
  "kernelspec": {
   "display_name": "Python 3 (ipykernel)",
   "language": "python",
   "name": "python3"
  },
  "language_info": {
   "codemirror_mode": {
    "name": "ipython",
    "version": 3
   },
   "file_extension": ".py",
   "mimetype": "text/x-python",
   "name": "python",
   "nbconvert_exporter": "python",
   "pygments_lexer": "ipython3",
   "version": "3.10.7"
  }
 },
 "nbformat": 4,
 "nbformat_minor": 5
}
