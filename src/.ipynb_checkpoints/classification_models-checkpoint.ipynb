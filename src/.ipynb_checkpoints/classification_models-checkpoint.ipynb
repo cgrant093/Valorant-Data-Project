{
 "cells": [
  {
   "cell_type": "markdown",
   "id": "88d0cf50",
   "metadata": {},
   "source": [
    "# Classification model(s):\n",
    "## preprocess data and train model(s)"
   ]
  },
  {
   "cell_type": "markdown",
   "id": "9bb3a95a",
   "metadata": {},
   "source": [
    "#### Import necessary modules"
   ]
  },
  {
   "cell_type": "code",
   "execution_count": 1,
   "id": "ef148843",
   "metadata": {},
   "outputs": [],
   "source": [
    "import os\n",
    "import numpy as np\n",
    "import pandas as pd\n",
    "\n",
    "from sklearn import metrics\n",
    "\n",
    "from preprocessing import partition_dataset\n",
    "#from api_requests import get_rank, get_matches \n",
    "#from composite_stats import composite_player_stats\n",
    "#from combine_and_expand_match_data import combine_match_dfs\n",
    "#from graphs import rank_order"
   ]
  },
  {
   "cell_type": "markdown",
   "id": "c943831f",
   "metadata": {},
   "source": [
    "### Make folder paths for data (and potentially a new subfolder)"
   ]
  },
  {
   "cell_type": "code",
   "execution_count": 2,
   "id": "45947d5c",
   "metadata": {},
   "outputs": [],
   "source": [
    "def make_folder(folder):\n",
    "    ## Check whether the specified path exists or not\n",
    "    isExist = os.path.exists(folder)\n",
    "    \n",
    "    if not isExist:\n",
    "        ## Create a new directory because it does not exist \n",
    "        os.makedirs(folder)\n",
    "        print(\"The new directory is created!\")"
   ]
  },
  {
   "cell_type": "code",
   "execution_count": 3,
   "id": "b2ba00e4",
   "metadata": {},
   "outputs": [],
   "source": [
    "data_path = f'data/'\n",
    "plot_path = f'plots/'\n",
    "model_path = f'model/'\n",
    "\n",
    "make_folder(data_path)\n",
    "make_folder(plot_path)\n",
    "make_folder(model_path)"
   ]
  },
  {
   "cell_type": "markdown",
   "id": "44fb2489",
   "metadata": {},
   "source": [
    "## Preprocess data"
   ]
  },
  {
   "cell_type": "code",
   "execution_count": 4,
   "id": "2a5dd7a7",
   "metadata": {},
   "outputs": [],
   "source": [
    "full_df = pd.read_csv(f'{data_path}cleaned_total_list.csv')\n",
    "\n",
    "features_list = ['KD', 'HS_perc', 'avg_ability_usage', 'avg_dmg_rec', \n",
    "         'avg_spent', 'avg_loadout', 'level', 'avg_assists']\n",
    "\n",
    "X_train, X_test, y_train, y_test = partition_dataset(full_df, features_list)"
   ]
  },
  {
   "cell_type": "markdown",
   "id": "6059d7f9",
   "metadata": {},
   "source": [
    "# Training a KNN Classifier"
   ]
  },
  {
   "cell_type": "code",
   "execution_count": null,
   "id": "67afdf57",
   "metadata": {},
   "outputs": [],
   "source": [
    "from sklearn.neighbors import KNeighborsClassifier\n",
    "\n",
    "neighbors_accuracy = []\n",
    "\n",
    "for neighbors in range(1,25,2):\n",
    "    #Create KNN Classifier\n",
    "    knn = KNeighborsClassifier(\n",
    "        n_neighbors=neighbors)\n",
    "\n",
    "    #Train the model using the training sets\n",
    "    knn.fit(X_train, y_train)\n",
    "\n",
    "    #Predict the response for test dataset\n",
    "    y_pred = knn.predict(X_test)\n",
    "    \n",
    "    #Model Accuracy, how often is the classifier correct?\n",
    "    accuracy = metrics.accuracy_score(y_test, y_pred)\n",
    "\n",
    "    #Add to depth_accuracy\n",
    "    neighbors_accuracy.append((neighbors, accuracy))\n",
    "    print(neighbors)"
   ]
  },
  {
   "cell_type": "code",
   "execution_count": 6,
   "id": "dea365e5",
   "metadata": {},
   "outputs": [
    {
     "name": "stdout",
     "output_type": "stream",
     "text": [
      "KNN Accuracy:\n",
      " [(1, 0.07948735743863788), (3, 0.07922132000832813), (5, 0.08263353922317071), (7, 0.08508571031993893), (9, 0.08783861938140514), (11, 0.08989751775510677), (13, 0.09074189742522035), (15, 0.09160941078492608), (17, 0.09245379045503968), (19, 0.09344853910750225), (21, 0.09482499363823536), (23, 0.09501006315497258)]\n"
     ]
    }
   ],
   "source": [
    "print(\"KNN Accuracy:\\n\", neighbors_accuracy)"
   ]
  },
  {
   "cell_type": "markdown",
   "id": "df157190",
   "metadata": {},
   "source": [
    "This is not accurate. I need to either:\n",
    "1. Change my features\n",
    "2. Change to a different model"
   ]
  },
  {
   "cell_type": "markdown",
   "id": "6c2f40a8",
   "metadata": {},
   "source": [
    "# Training a Random Forest Classifier"
   ]
  },
  {
   "cell_type": "code",
   "execution_count": null,
   "id": "cf29a5a8",
   "metadata": {},
   "outputs": [],
   "source": [
    "from sklearn.ensemble import RandomForestClassifier\n",
    "\n",
    "depth_accuracy = []\n",
    "\n",
    "for depth in range(1,12):\n",
    "    #Instantiate dt\n",
    "    rf = RandomForestClassifier(\n",
    "        max_depth=depth,\n",
    "        random_state=3)\n",
    "\n",
    "    #Train the model using the training sets\n",
    "    rf.fit(X_train, y_train)\n",
    "\n",
    "    #Predict the response for test dataset\n",
    "    y_pred = rf.predict(X_test)\n",
    "\n",
    "    #Model Accuracy, how often is the classifier correct?\n",
    "    accuracy = metrics.accuracy_score(y_test, y_pred)\n",
    "    \n",
    "    #Add to depth_accuracy\n",
    "    depth_accuracy.append((depth, accuracy))\n",
    "    print(depth)"
   ]
  },
  {
   "cell_type": "code",
   "execution_count": 8,
   "id": "262ef3f5",
   "metadata": {
    "scrolled": true
   },
   "outputs": [
    {
     "name": "stdout",
     "output_type": "stream",
     "text": [
      "Random Forest Accuracy:\n",
      " [(1, 0.09369144284821987), (2, 0.10129085987924213), (3, 0.10799962986096652), (4, 0.11187452286765216), (5, 0.11370208434543225), (6, 0.11476623406667129), (7, 0.11577254956392995), (8, 0.11606172068383186), (9, 0.11706803618109052), (10, 0.11760011104171005), (11, 0.11871052814213338)]\n"
     ]
    }
   ],
   "source": [
    "print(\"Random Forest Accuracy:\\n\", depth_accuracy)"
   ]
  },
  {
   "cell_type": "markdown",
   "id": "55091521",
   "metadata": {},
   "source": [
    "# Training a Decision Tree Classifier"
   ]
  },
  {
   "cell_type": "code",
   "execution_count": null,
   "id": "c9254b46",
   "metadata": {},
   "outputs": [],
   "source": [
    "from sklearn.tree import DecisionTreeClassifier\n",
    "\n",
    "depth_accuracy = []\n",
    "\n",
    "for depth in range(1,12):\n",
    "    # Instantiate dt\n",
    "    dt = DecisionTreeClassifier(\n",
    "        max_depth=depth,\n",
    "        random_state=3)\n",
    "\n",
    "    #Train the model using the training sets\n",
    "    dt.fit(X_train, y_train)\n",
    "\n",
    "    #Predict the response for test dataset\n",
    "    y_pred = dt.predict(X_test)\n",
    "    \n",
    "    #Model Accuracy, how often is the classifier correct?\n",
    "    accuracy = metrics.accuracy_score(y_test, y_pred)\n",
    "    \n",
    "    #Add to depth_accuracy\n",
    "    depth_accuracy.append((depth, accuracy))\n",
    "    print(depth)"
   ]
  },
  {
   "cell_type": "code",
   "execution_count": 10,
   "id": "c318d74c",
   "metadata": {
    "scrolled": true
   },
   "outputs": [
    {
     "name": "stdout",
     "output_type": "stream",
     "text": [
      "Decision Tree Accuracy:\n",
      " [(1, 0.09895435723043468), (2, 0.10163786522312443), (3, 0.10732875286279409), (4, 0.10967682235639763), (5, 0.11288083836491082), (6, 0.11301964050246374), (7, 0.11455803086034191), (8, 0.11578411640872603), (9, 0.11341291322553033), (10, 0.11377148541420871), (11, 0.11148125014458556)]\n"
     ]
    }
   ],
   "source": [
    "print(\"Decision Tree Accuracy:\\n\", depth_accuracy)"
   ]
  },
  {
   "cell_type": "markdown",
   "id": "76630544",
   "metadata": {},
   "source": [
    "# Training a SVC"
   ]
  },
  {
   "cell_type": "code",
   "execution_count": null,
   "id": "9462af34",
   "metadata": {},
   "outputs": [],
   "source": [
    "from sklearn.svm import SVC\n",
    "\n",
    "svc = SVC()\n",
    "\n",
    "#Train the model using the training sets\n",
    "svc.fit(X_train, y_train)\n",
    "\n",
    "#Predict the response for test dataset\n",
    "y_pred = svc.predict(X_test)\n",
    "\n",
    "# Model Accuracy, how often is the classifier correct?\n",
    "print(\"SVC Accuracy:\", metrics.accuracy_score(y_test, y_pred))"
   ]
  },
  {
   "cell_type": "code",
   "execution_count": null,
   "id": "9ae5463d",
   "metadata": {},
   "outputs": [],
   "source": []
  }
 ],
 "metadata": {
  "kernelspec": {
   "display_name": "Python 3 (ipykernel)",
   "language": "python",
   "name": "python3"
  },
  "language_info": {
   "codemirror_mode": {
    "name": "ipython",
    "version": 3
   },
   "file_extension": ".py",
   "mimetype": "text/x-python",
   "name": "python",
   "nbconvert_exporter": "python",
   "pygments_lexer": "ipython3",
   "version": "3.10.7"
  }
 },
 "nbformat": 4,
 "nbformat_minor": 5
}
