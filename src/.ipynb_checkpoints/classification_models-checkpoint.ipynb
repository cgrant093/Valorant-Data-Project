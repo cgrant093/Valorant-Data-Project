{
 "cells": [
  {
   "cell_type": "markdown",
   "id": "88d0cf50",
   "metadata": {},
   "source": [
    "# Classification model(s):\n",
    "## preprocess data and train model(s)"
   ]
  },
  {
   "cell_type": "markdown",
   "id": "9bb3a95a",
   "metadata": {},
   "source": [
    "#### Import necessary modules"
   ]
  },
  {
   "cell_type": "code",
   "execution_count": 11,
   "id": "ef148843",
   "metadata": {},
   "outputs": [],
   "source": [
    "import os\n",
    "import numpy as np\n",
    "import pandas as pd\n",
    "\n",
    "from sklearn.neighbors import KNeighborsClassifier\n",
    "from sklearn import metrics\n",
    "\n",
    "from preprocessing import partition_dataset\n",
    "#from api_requests import get_rank, get_matches \n",
    "#from composite_stats import composite_player_stats\n",
    "#from combine_and_expand_match_data import combine_match_dfs\n",
    "#from graphs import rank_order"
   ]
  },
  {
   "cell_type": "markdown",
   "id": "c943831f",
   "metadata": {},
   "source": [
    "### Make folder paths for data (and potentially a new subfolder)"
   ]
  },
  {
   "cell_type": "code",
   "execution_count": 2,
   "id": "45947d5c",
   "metadata": {},
   "outputs": [],
   "source": [
    "def make_new_folder(folder):\n",
    "    ## Check whether the specified path exists or not\n",
    "    isExist = os.path.exists(folder)\n",
    "    \n",
    "    if not isExist:\n",
    "        ## Create a new directory because it does not exist \n",
    "        os.makedirs(folder)\n",
    "        print(\"The new directory is created!\")"
   ]
  },
  {
   "cell_type": "code",
   "execution_count": 3,
   "id": "b2ba00e4",
   "metadata": {},
   "outputs": [],
   "source": [
    "data_path = f'data/'\n",
    "plot_path = f'plots/'\n",
    "agg_stats_path = f'agg_stats/'\n",
    "model_path = f'model/'\n",
    "\n",
    "make_new_folder(data_path)\n",
    "make_new_folder(plot_path)\n",
    "make_new_folder(agg_stats_path)\n",
    "make_new_folder(model_path)"
   ]
  },
  {
   "cell_type": "markdown",
   "id": "44fb2489",
   "metadata": {},
   "source": [
    "## Preprocess data"
   ]
  },
  {
   "cell_type": "code",
   "execution_count": 4,
   "id": "2a5dd7a7",
   "metadata": {},
   "outputs": [],
   "source": [
    "full_df = pd.read_csv(f'{data_path}cleaned_total_list.csv')\n",
    "\n",
    "features_list = ['KD', 'HS_perc', 'avg_ability_usage', 'avg_dmg_rec', \n",
    "         'avg_spent', 'avg_loadout', 'level', 'avg_assists']\n",
    "\n",
    "X_train, X_test, y_train, y_test = partition_dataset(full_df, features_list)"
   ]
  },
  {
   "cell_type": "markdown",
   "id": "6059d7f9",
   "metadata": {},
   "source": [
    "# Training the KNN model"
   ]
  },
  {
   "cell_type": "code",
   "execution_count": 19,
   "id": "67afdf57",
   "metadata": {},
   "outputs": [
    {
     "name": "stdout",
     "output_type": "stream",
     "text": [
      "Accuracy: 0.11177042126448747\n"
     ]
    }
   ],
   "source": [
    "#Create KNN Classifier\n",
    "knn = KNeighborsClassifier(n_neighbors=1001)\n",
    "\n",
    "#Train the model using the training sets\n",
    "knn.fit(X_train, y_train)\n",
    "\n",
    "#Predict the response for test dataset\n",
    "y_pred = knn.predict(X_test)\n",
    "\n",
    "# Model Accuracy, how often is the classifier correct?\n",
    "print(\"Accuracy:\", metrics.accuracy_score(y_test, y_pred))"
   ]
  },
  {
   "cell_type": "markdown",
   "id": "df157190",
   "metadata": {},
   "source": [
    "Neighbors: Accuracy\n",
    "3: 0.07776389756402248\n",
    "5: 0.08049367293589654\n",
    "7: 0.08295741087746085\n",
    "25: 0.09465149096629422\n",
    "51: 0.09986813796932473\n",
    "101: 0.10311842135702223\n",
    "1001: 0.11177042126448747\n",
    "\n",
    "This does not seem to be going well. \n",
    "After looking into it, KNN models do not do well with high dimensionality.\n",
    "I do not know where this boundary is, but since I have 8 features I need to either:\n",
    "1. Reduce number of features and see how well the KNN deals with that\n",
    "2. Change to a different model"
   ]
  }
 ],
 "metadata": {
  "kernelspec": {
   "display_name": "Python 3 (ipykernel)",
   "language": "python",
   "name": "python3"
  },
  "language_info": {
   "codemirror_mode": {
    "name": "ipython",
    "version": 3
   },
   "file_extension": ".py",
   "mimetype": "text/x-python",
   "name": "python",
   "nbconvert_exporter": "python",
   "pygments_lexer": "ipython3",
   "version": "3.9.2"
  }
 },
 "nbformat": 4,
 "nbformat_minor": 5
}
