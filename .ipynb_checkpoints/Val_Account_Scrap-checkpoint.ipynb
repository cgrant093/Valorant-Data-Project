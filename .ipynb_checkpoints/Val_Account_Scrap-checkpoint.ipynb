{
 "cells": [
  {
   "cell_type": "code",
   "execution_count": 9,
   "id": "ef148843",
   "metadata": {},
   "outputs": [],
   "source": [
    "import os\n",
    "\n",
    "import pandas as pd\n",
    "import matplotlib.pyplot as plt\n",
    "\n",
    "from FindMoreUsers import find_more_users"
   ]
  },
  {
   "cell_type": "code",
   "execution_count": 4,
   "id": "0991f003",
   "metadata": {},
   "outputs": [],
   "source": [
    "def accounts_to_csv(depth, base_account):\n",
    "    set_of_accounts = find_more_users(base_account, set(), depth)\n",
    "    print(len(set_of_accounts))\n",
    "    \n",
    "    df = pd.DataFrame(set_of_accounts, columns = ['User', 'Tag', 'Rank', 'Position', 'KD', 'Assists', 'Headshot %', 'Ability Usage'])\n",
    "    df.to_csv(f'./data/accounts_from_{base_account}.csv', index=False)"
   ]
  },
  {
   "cell_type": "code",
   "execution_count": 5,
   "id": "3da601d3",
   "metadata": {},
   "outputs": [],
   "source": [
    "initial_account_set=set([\n",
    "        ('beta4days', 'dogw'),\n",
    "        ('SEN Kyu', '9771'),\n",
    "        ('alam2881', 'NA111'),\n",
    "        ('milk green tea', 'boba'),\n",
    "        ('Tomato Taco', '5111'),\n",
    "        ('Symperion', '4KT'),\n",
    "        ('Kisuke', 'zzz'),\n",
    "        ('Toph', '00001'),\n",
    "        ('BabyJ', 'Halo'),\n",
    "])\n",
    "\n",
    "initial_list = list(initial_account_set)\n",
    "\n",
    "depth = 2"
   ]
  },
  {
   "cell_type": "code",
   "execution_count": 14,
   "id": "01e93f44",
   "metadata": {},
   "outputs": [
    {
     "name": "stdout",
     "output_type": "stream",
     "text": [
      "1100\n"
     ]
    }
   ],
   "source": [
    "accounts_to_csv(depth, initial_list[0])"
   ]
  },
  {
   "cell_type": "code",
   "execution_count": 15,
   "id": "12a46c68",
   "metadata": {},
   "outputs": [
    {
     "name": "stdout",
     "output_type": "stream",
     "text": [
      "1173\n"
     ]
    }
   ],
   "source": [
    "accounts_to_csv(depth, initial_list[1])"
   ]
  },
  {
   "cell_type": "code",
   "execution_count": 10,
   "id": "bee59f4f",
   "metadata": {},
   "outputs": [
    {
     "ename": "NameError",
     "evalue": "name 'get_new_users' is not defined",
     "output_type": "error",
     "traceback": [
      "\u001b[1;31m---------------------------------------------------------------------------\u001b[0m",
      "\u001b[1;31mNameError\u001b[0m                                 Traceback (most recent call last)",
      "\u001b[1;32m~\\AppData\\Local\\Temp\\ipykernel_11584\\2635108855.py\u001b[0m in \u001b[0;36m<module>\u001b[1;34m\u001b[0m\n\u001b[1;32m----> 1\u001b[1;33m \u001b[0maccounts_to_csv\u001b[0m\u001b[1;33m(\u001b[0m\u001b[0mdepth\u001b[0m\u001b[1;33m,\u001b[0m \u001b[0minitial_list\u001b[0m\u001b[1;33m[\u001b[0m\u001b[1;36m2\u001b[0m\u001b[1;33m]\u001b[0m\u001b[1;33m)\u001b[0m\u001b[1;33m\u001b[0m\u001b[1;33m\u001b[0m\u001b[0m\n\u001b[0m",
      "\u001b[1;32m~\\AppData\\Local\\Temp\\ipykernel_11584\\461589921.py\u001b[0m in \u001b[0;36maccounts_to_csv\u001b[1;34m(depth, base_account)\u001b[0m\n\u001b[0;32m      1\u001b[0m \u001b[1;32mdef\u001b[0m \u001b[0maccounts_to_csv\u001b[0m\u001b[1;33m(\u001b[0m\u001b[0mdepth\u001b[0m\u001b[1;33m,\u001b[0m \u001b[0mbase_account\u001b[0m\u001b[1;33m)\u001b[0m\u001b[1;33m:\u001b[0m\u001b[1;33m\u001b[0m\u001b[1;33m\u001b[0m\u001b[0m\n\u001b[1;32m----> 2\u001b[1;33m     \u001b[0mset_of_accounts\u001b[0m \u001b[1;33m=\u001b[0m \u001b[0mfind_more_users\u001b[0m\u001b[1;33m(\u001b[0m\u001b[0mbase_account\u001b[0m\u001b[1;33m,\u001b[0m \u001b[0mset\u001b[0m\u001b[1;33m(\u001b[0m\u001b[1;33m)\u001b[0m\u001b[1;33m,\u001b[0m \u001b[0mdepth\u001b[0m\u001b[1;33m)\u001b[0m\u001b[1;33m\u001b[0m\u001b[1;33m\u001b[0m\u001b[0m\n\u001b[0m\u001b[0;32m      3\u001b[0m     \u001b[0mprint\u001b[0m\u001b[1;33m(\u001b[0m\u001b[0mlen\u001b[0m\u001b[1;33m(\u001b[0m\u001b[0mset_of_accounts\u001b[0m\u001b[1;33m)\u001b[0m\u001b[1;33m)\u001b[0m\u001b[1;33m\u001b[0m\u001b[1;33m\u001b[0m\u001b[0m\n\u001b[0;32m      4\u001b[0m \u001b[1;33m\u001b[0m\u001b[0m\n\u001b[0;32m      5\u001b[0m     \u001b[0mdf\u001b[0m \u001b[1;33m=\u001b[0m \u001b[0mpd\u001b[0m\u001b[1;33m.\u001b[0m\u001b[0mDataFrame\u001b[0m\u001b[1;33m(\u001b[0m\u001b[0mset_of_accounts\u001b[0m\u001b[1;33m,\u001b[0m \u001b[0mcolumns\u001b[0m \u001b[1;33m=\u001b[0m \u001b[1;33m[\u001b[0m\u001b[1;34m'User'\u001b[0m\u001b[1;33m,\u001b[0m \u001b[1;34m'Tag'\u001b[0m\u001b[1;33m,\u001b[0m \u001b[1;34m'Rank'\u001b[0m\u001b[1;33m,\u001b[0m \u001b[1;34m'Position'\u001b[0m\u001b[1;33m,\u001b[0m \u001b[1;34m'KD'\u001b[0m\u001b[1;33m,\u001b[0m \u001b[1;34m'Assists'\u001b[0m\u001b[1;33m,\u001b[0m \u001b[1;34m'Headshot %'\u001b[0m\u001b[1;33m,\u001b[0m \u001b[1;34m'Ability Usage'\u001b[0m\u001b[1;33m]\u001b[0m\u001b[1;33m)\u001b[0m\u001b[1;33m\u001b[0m\u001b[1;33m\u001b[0m\u001b[0m\n",
      "\u001b[1;32m~\\Documents\\Github\\Valorant-Data-Science-Project\\FindMoreUsers.py\u001b[0m in \u001b[0;36mfind_more_users\u001b[1;34m(account, current_set, depth)\u001b[0m\n\u001b[0;32m     47\u001b[0m     \u001b[1;31m## generate last 5 matches\u001b[0m\u001b[1;33m\u001b[0m\u001b[1;33m\u001b[0m\u001b[1;33m\u001b[0m\u001b[0m\n\u001b[0;32m     48\u001b[0m         \u001b[1;31m## and if no matches available return nothing\u001b[0m\u001b[1;33m\u001b[0m\u001b[1;33m\u001b[0m\u001b[1;33m\u001b[0m\u001b[0m\n\u001b[1;32m---> 49\u001b[1;33m     \u001b[0mmatches\u001b[0m\u001b[1;33m,\u001b[0m \u001b[0mrank\u001b[0m \u001b[1;33m=\u001b[0m \u001b[0mget_matches_and_rank\u001b[0m\u001b[1;33m(\u001b[0m\u001b[0maccount\u001b[0m\u001b[1;33m[\u001b[0m\u001b[1;36m0\u001b[0m\u001b[1;33m]\u001b[0m\u001b[1;33m,\u001b[0m \u001b[0maccount\u001b[0m\u001b[1;33m[\u001b[0m\u001b[1;36m1\u001b[0m\u001b[1;33m]\u001b[0m\u001b[1;33m)\u001b[0m\u001b[1;33m\u001b[0m\u001b[1;33m\u001b[0m\u001b[0m\n\u001b[0m\u001b[0;32m     50\u001b[0m \u001b[1;33m\u001b[0m\u001b[0m\n\u001b[0;32m     51\u001b[0m     \u001b[1;32mif\u001b[0m \u001b[1;33m(\u001b[0m\u001b[0mmatches\u001b[0m \u001b[1;33m==\u001b[0m \u001b[1;32mNone\u001b[0m\u001b[1;33m)\u001b[0m \u001b[1;32mor\u001b[0m \u001b[1;33m(\u001b[0m\u001b[0mrank\u001b[0m \u001b[1;33m==\u001b[0m \u001b[1;32mNone\u001b[0m\u001b[1;33m)\u001b[0m\u001b[1;33m:\u001b[0m\u001b[1;33m\u001b[0m\u001b[1;33m\u001b[0m\u001b[0m\n",
      "\u001b[1;32m~\\Documents\\Github\\Valorant-Data-Science-Project\\FindMoreUsers.py\u001b[0m in \u001b[0;36m<listcomp>\u001b[1;34m(.0)\u001b[0m\n\u001b[0;32m     47\u001b[0m     \u001b[1;31m## generate last 5 matches\u001b[0m\u001b[1;33m\u001b[0m\u001b[1;33m\u001b[0m\u001b[1;33m\u001b[0m\u001b[0m\n\u001b[0;32m     48\u001b[0m         \u001b[1;31m## and if no matches available return nothing\u001b[0m\u001b[1;33m\u001b[0m\u001b[1;33m\u001b[0m\u001b[1;33m\u001b[0m\u001b[0m\n\u001b[1;32m---> 49\u001b[1;33m     \u001b[0mmatches\u001b[0m\u001b[1;33m,\u001b[0m \u001b[0mrank\u001b[0m \u001b[1;33m=\u001b[0m \u001b[0mget_matches_and_rank\u001b[0m\u001b[1;33m(\u001b[0m\u001b[0maccount\u001b[0m\u001b[1;33m[\u001b[0m\u001b[1;36m0\u001b[0m\u001b[1;33m]\u001b[0m\u001b[1;33m,\u001b[0m \u001b[0maccount\u001b[0m\u001b[1;33m[\u001b[0m\u001b[1;36m1\u001b[0m\u001b[1;33m]\u001b[0m\u001b[1;33m)\u001b[0m\u001b[1;33m\u001b[0m\u001b[1;33m\u001b[0m\u001b[0m\n\u001b[0m\u001b[0;32m     50\u001b[0m \u001b[1;33m\u001b[0m\u001b[0m\n\u001b[0;32m     51\u001b[0m     \u001b[1;32mif\u001b[0m \u001b[1;33m(\u001b[0m\u001b[0mmatches\u001b[0m \u001b[1;33m==\u001b[0m \u001b[1;32mNone\u001b[0m\u001b[1;33m)\u001b[0m \u001b[1;32mor\u001b[0m \u001b[1;33m(\u001b[0m\u001b[0mrank\u001b[0m \u001b[1;33m==\u001b[0m \u001b[1;32mNone\u001b[0m\u001b[1;33m)\u001b[0m\u001b[1;33m:\u001b[0m\u001b[1;33m\u001b[0m\u001b[1;33m\u001b[0m\u001b[0m\n",
      "\u001b[1;31mNameError\u001b[0m: name 'get_new_users' is not defined"
     ]
    }
   ],
   "source": [
    "accounts_to_csv(depth, initial_list[2])"
   ]
  },
  {
   "cell_type": "code",
   "execution_count": null,
   "id": "da14fbdb",
   "metadata": {},
   "outputs": [],
   "source": [
    "accounts_to_csv(depth, initial_list[3])"
   ]
  },
  {
   "cell_type": "code",
   "execution_count": null,
   "id": "09fd503a",
   "metadata": {},
   "outputs": [],
   "source": [
    "accounts_to_csv(depth, initial_list[4])"
   ]
  },
  {
   "cell_type": "code",
   "execution_count": null,
   "id": "24bbd2f8",
   "metadata": {},
   "outputs": [],
   "source": [
    "accounts_to_csv(depth, initial_list[5])"
   ]
  },
  {
   "cell_type": "code",
   "execution_count": null,
   "id": "40daa78b",
   "metadata": {},
   "outputs": [],
   "source": [
    "accounts_to_csv(depth, initial_list[6])"
   ]
  },
  {
   "cell_type": "code",
   "execution_count": null,
   "id": "7530bca5",
   "metadata": {},
   "outputs": [],
   "source": [
    "accounts_to_csv(depth, initial_list[7])"
   ]
  },
  {
   "cell_type": "code",
   "execution_count": null,
   "id": "bc199e00",
   "metadata": {},
   "outputs": [],
   "source": [
    "accounts_to_csv(depth, initial_list[8])"
   ]
  },
  {
   "cell_type": "code",
   "execution_count": 142,
   "id": "9558f57c",
   "metadata": {},
   "outputs": [
    {
     "data": {
      "text/plain": [
       "274982"
      ]
     },
     "execution_count": 142,
     "metadata": {},
     "output_type": "execute_result"
    }
   ],
   "source": [
    "71507 +42719 +12365 +9496 +10336 +29737 +62271 +27521 +9030"
   ]
  },
  {
   "cell_type": "code",
   "execution_count": null,
   "id": "7b8a0a3b",
   "metadata": {},
   "outputs": [],
   "source": []
  },
  {
   "cell_type": "code",
   "execution_count": 59,
   "id": "48424863",
   "metadata": {},
   "outputs": [],
   "source": [
    "df = pd.DataFrame()\n",
    "\n",
    "files = [file for file in os.listdir('./data/') if os.path.isfile(os.path.join(path, file))]\n",
    "\n",
    "for file in files:\n",
    "    df = pd.concat([df, pd.read_csv(f'./data/{file}')])\n",
    "    \n",
    "df = df.drop_duplicates(subset=['Users', 'Tags'])\n",
    "\n",
    "print(df.shape[0])\n",
    "df.head()\n",
    "\n",
    "df.to_csv(f'./data/depth{depth}/total_accounts_list.csv', index=False)"
   ]
  },
  {
   "cell_type": "code",
   "execution_count": 76,
   "id": "0e2faa74",
   "metadata": {},
   "outputs": [],
   "source": [
    "rank_order = ['Iron 1', 'Iron 2', 'Iron 3', \n",
    "              'Bronze 1', 'Bronze 2', 'Bronze 3',\n",
    "              'Silver 1', 'Silver 2', 'Silver 3',\n",
    "              'Gold 1', 'Gold 2', 'Gold 3',\n",
    "              'Platinum 1', 'Platinum 2', 'Platinum 3',\n",
    "              'Diamond 1', 'Diamond 2', 'Diamond 3',\n",
    "              'Immortal 1', 'Immortal 2', 'Immortal 3',\n",
    "              'Radiant']\n",
    "color_order = ['#5d5d5d', '#5d5d5d', '#5d5d5d', \n",
    "               '#966c18', '#966c18', '#966c18',\n",
    "               '#e1e8e7', '#e1e8e7', '#e1e8e7',\n",
    "               '#e9c44c', '#e9c44c', '#e9c44c',\n",
    "               '#52d5de', '#52d5de', '#52d5de',\n",
    "               '#f197f4', '#f197f4', '#f197f4',\n",
    "               '#b02638', '#b02638', '#b02638',\n",
    "               '#ffffb5']"
   ]
  },
  {
   "cell_type": "code",
   "execution_count": 83,
   "id": "a67c56a2",
   "metadata": {},
   "outputs": [
    {
     "name": "stdout",
     "output_type": "stream",
     "text": [
      "Rank Name\n",
      "Iron 1          NaN\n",
      "Iron 2          NaN\n",
      "Iron 3        141.0\n",
      "Bronze 1      195.0\n",
      "Bronze 2      375.0\n",
      "Bronze 3      468.0\n",
      "Silver 1      579.0\n",
      "Silver 2      491.0\n",
      "Silver 3      501.0\n",
      "Gold 1        427.0\n",
      "Gold 2        399.0\n",
      "Gold 3        447.0\n",
      "Platinum 1    308.0\n",
      "Platinum 2    371.0\n",
      "Platinum 3    423.0\n",
      "Diamond 1     415.0\n",
      "Diamond 2     382.0\n",
      "Diamond 3     390.0\n",
      "Immortal 1    331.0\n",
      "Immortal 2    247.0\n",
      "Immortal 3    302.0\n",
      "Radiant       291.0\n",
      "Name: Rank, dtype: float64\n"
     ]
    }
   ],
   "source": [
    "groupby_ranked = df.groupby(['Rank']).count()['User']\n",
    "groupby_ranked = groupby_ranked.reindex(rank_order)\n",
    "print(groupby_ranked)\n",
    "\n",
    "groupby_ranked.to_csv(f'./data/depth{depth}/rank_dist.csv', index=False)"
   ]
  },
  {
   "cell_type": "code",
   "execution_count": 77,
   "id": "868e3d3f",
   "metadata": {},
   "outputs": [
    {
     "data": {
      "image/png": "[encoded data removed]",
      "text/plain": [
       "<Figure size 432x288 with 1 Axes>"
      ]
     },
     "metadata": {
      "needs_background": "light"
     },
     "output_type": "display_data"
    }
   ],
   "source": [
    "plt.bar(rank_order, groupby_ranked, color=color_order)\n",
    "plt.xticks(rank_order, rotation='vertical', size=8)\n",
    "plt.ylabel('Total players in a rank')\n",
    "plt.xlabel('Rank')\n",
    "plt.show()\n",
    "\n",
    "plt.savefig(f'./plots/rank_dist_depth{depth}png')"
   ]
  },
  {
   "cell_type": "code",
   "execution_count": null,
   "id": "aa45479f",
   "metadata": {},
   "outputs": [],
   "source": []
  }
 ],
 "metadata": {
  "kernelspec": {
   "display_name": "Python 3 (ipykernel)",
   "language": "python",
   "name": "python3"
  },
  "language_info": {
   "codemirror_mode": {
    "name": "ipython",
    "version": 3
   },
   "file_extension": ".py",
   "mimetype": "text/x-python",
   "name": "python",
   "nbconvert_exporter": "python",
   "pygments_lexer": "ipython3",
   "version": "3.9.2"
  }
 },
 "nbformat": 4,
 "nbformat_minor": 5
}
