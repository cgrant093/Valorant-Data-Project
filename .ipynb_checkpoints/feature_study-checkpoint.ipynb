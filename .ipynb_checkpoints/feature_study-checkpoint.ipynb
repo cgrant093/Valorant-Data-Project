{
 "cells": [
  {
   "cell_type": "markdown",
   "id": "88d0cf50",
   "metadata": {},
   "source": [
    "# Feature study and extract aggregate statistics"
   ]
  },
  {
   "cell_type": "markdown",
   "id": "9bb3a95a",
   "metadata": {},
   "source": [
    "#### Import necessary modules"
   ]
  },
  {
   "cell_type": "code",
   "execution_count": 2,
   "id": "ef148843",
   "metadata": {},
   "outputs": [],
   "source": [
    "import os\n",
    "import csv\n",
    "#import json\n",
    "\n",
    "import numpy as np\n",
    "import pandas as pd\n",
    "import matplotlib.pyplot as plt\n",
    "\n",
    "from api_requests import get_rank, get_matches\n",
    "from rank_and_position_dfs import get_ranked_df, get_ranked_pos_df \n",
    "from remove_statistical_outliers import remove_stat_outliers\n",
    "from composite_stats import composite_player_stats\n",
    "from combine_and_expand_match_data import combine_match_dfs\n",
    "\n",
    "from graphs import (plot_rank_distribution, \n",
    "                    plot_avg_value, plot_avg_value_per_position)\n",
    "\n",
    "from datetime import date\n",
    "from collections import defaultdict"
   ]
  },
  {
   "cell_type": "markdown",
   "id": "c943831f",
   "metadata": {},
   "source": [
    "### Make folder paths for data (and potentially a new subfolder)"
   ]
  },
  {
   "cell_type": "code",
   "execution_count": 5,
   "id": "45947d5c",
   "metadata": {},
   "outputs": [],
   "source": [
    "def make_new_folder(folder):\n",
    "    ## Check whether the specified path exists or not\n",
    "    isExist = os.path.exists(folder)\n",
    "    \n",
    "    if not isExist:\n",
    "        ## Create a new directory because it does not exist \n",
    "        os.makedirs(folder)\n",
    "        print(\"The new directory is created!\")"
   ]
  },
  {
   "cell_type": "code",
   "execution_count": 7,
   "id": "b2ba00e4",
   "metadata": {},
   "outputs": [],
   "source": [
    "data_path = f'data/'\n",
    "rank_path = f'{data_path}rank/'\n",
    "match_path = f'{data_path}match/'\n",
    "u_list = f'{data_path}lists/'\n",
    "plot_path = f'plots/'\n",
    "agg_stats_path = f'agg_stats/'\n",
    "\n",
    "#make_new_folder(path)\n",
    "make_new_folder(data_path)\n",
    "make_new_folder(plot_path)\n",
    "make_new_folder(rank_path)\n",
    "make_new_folder(match_path)\n",
    "make_new_folder(agg_stats_path)"
   ]
  },
  {
   "cell_type": "code",
   "execution_count": null,
   "id": "3b1a10e6",
   "metadata": {},
   "outputs": [],
   "source": [
    "#### Import necessary modules\n",
    "\n",
    "import os\n",
    "import csv\n",
    "#import json\n",
    "\n",
    "import numpy as np\n",
    "import pandas as pd\n",
    "import matplotlib.pyplot as plt\n",
    "\n",
    "from api_requests import get_rank, get_matches\n",
    "from rank_and_position_dfs import get_ranked_df, get_ranked_pos_df \n",
    "from remove_statistical_outliers import remove_stat_outliers\n",
    "from composite_stats import composite_player_stats\n",
    "from combine_and_expand_match_data import combine_match_dfs\n",
    "\n",
    "from graphs import (plot_rank_distribution, \n",
    "                    plot_avg_value, plot_avg_value_per_position)\n",
    "\n",
    "from datetime import date\n",
    "from collections import defaultdict\n",
    "\n",
    "### Make folder paths for data (and potentially a new subfolder)\n",
    "\n",
    "def make_new_folder(folder):\n",
    "    ## Check whether the specified path exists or not\n",
    "    isExist = os.path.exists(folder)\n",
    "    \n",
    "    if not isExist:\n",
    "        ## Create a new directory because it does not exist \n",
    "        os.makedirs(folder)\n",
    "        print(\"The new directory is created!\")\n",
    "\n",
    "data_path = f'data/'\n",
    "rank_path = f'{data_path}rank/'\n",
    "match_path = f'{data_path}match/'\n",
    "u_list = f'{data_path}lists/'\n",
    "plot_path = f'plots/'\n",
    "agg_stats_path = f'agg_stats/'\n",
    "\n",
    "#make_new_folder(path)\n",
    "make_new_folder(data_path)\n",
    "make_new_folder(plot_path)\n",
    "make_new_folder(rank_path)\n",
    "make_new_folder(match_path)\n",
    "make_new_folder(agg_stats_path)"
   ]
  }
 ],
 "metadata": {
  "kernelspec": {
   "display_name": "Python 3 (ipykernel)",
   "language": "python",
   "name": "python3"
  },
  "language_info": {
   "codemirror_mode": {
    "name": "ipython",
    "version": 3
   },
   "file_extension": ".py",
   "mimetype": "text/x-python",
   "name": "python",
   "nbconvert_exporter": "python",
   "pygments_lexer": "ipython3",
   "version": "3.9.2"
  }
 },
 "nbformat": 4,
 "nbformat_minor": 5
}
