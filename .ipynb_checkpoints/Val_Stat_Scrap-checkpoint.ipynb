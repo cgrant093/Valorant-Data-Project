{
 "cells": [
  {
   "cell_type": "code",
   "execution_count": 1,
   "id": "c5d79efe",
   "metadata": {},
   "outputs": [],
   "source": [
    "import requests\n",
    "import urllib.parse\n",
    "import pandas as pd"
   ]
  },
  {
   "cell_type": "code",
   "execution_count": 2,
   "id": "6f7c5192",
   "metadata": {},
   "outputs": [],
   "source": [
    "def flatten(a_list):\n",
    "    return [item for sublist in a_list for item in sublist]"
   ]
  },
  {
   "cell_type": "code",
   "execution_count": 4,
   "id": "35e6c2a8",
   "metadata": {},
   "outputs": [],
   "source": [
    "def get_matches(name, tag):\n",
    "    r = requests.get(f'https://api.henrikdev.xyz/valorant/v3/matches/na/{urllib.parse.quote(name)}/{urllib.parse.quote(tag)}')\n",
    "    \n",
    "    if r.status_code != 204:\n",
    "        try:\n",
    "            if ('data' in r.json().keys()):\n",
    "                return (r.json()['data'])\n",
    "        \n",
    "        except ValueError:\n",
    "            return None"
   ]
  },
  {
   "cell_type": "code",
   "execution_count": 6,
   "id": "789f1651",
   "metadata": {},
   "outputs": [],
   "source": [
    "def get_MMR(name, tag):\n",
    "    \n",
    "    r = requests.get(f'https://api.henrikdev.xyz/valorant/v1/mmr/na/{urllib.parse.quote(name)}/{urllib.parse.quote(tag)}')\n",
    "    \n",
    "    if r.status_code != 204:\n",
    "        try:\n",
    "            if ('data' in r.json().keys()):\n",
    "                mmr = (r.json())['data']\n",
    "                return (mmr['currenttierpatched'], mmr['currenttier']) \n",
    "        \n",
    "        except ValueError:\n",
    "            return None"
   ]
  },
  {
   "cell_type": "code",
   "execution_count": 3,
   "id": "6a6df32d",
   "metadata": {},
   "outputs": [],
   "source": [
    "def headshot_percentage(headshots, bodyshots, legshots):\n",
    "    total_shots = headshots + bodyshots + legshots\n",
    "    \n",
    "    if total_shots == 0:\n",
    "        return 0\n",
    "    \n",
    "    return headshots * 100 / (total_shots)"
   ]
  },
  {
   "cell_type": "code",
   "execution_count": 7,
   "id": "02d89e91",
   "metadata": {},
   "outputs": [
    {
     "name": "stdout",
     "output_type": "stream",
     "text": [
      "5\n",
      "dict_keys(['metadata', 'players', 'teams', 'rounds', 'kills'])\n"
     ]
    }
   ],
   "source": [
    "matches = get_matches('beta4days', 'dogw')\n",
    "print(len(matches))\n",
    "print(matches[0].keys())"
   ]
  },
  {
   "cell_type": "code",
   "execution_count": 8,
   "id": "82d2c135",
   "metadata": {},
   "outputs": [
    {
     "name": "stdout",
     "output_type": "stream",
     "text": [
      "dict_keys(['puuid', 'name', 'tag', 'team', 'level', 'character', 'currenttier', 'currenttier_patched', 'player_card', 'player_title', 'party_id', 'session_playtime', 'behavior', 'platform', 'ability_casts', 'assets', 'stats', 'economy', 'damage_made', 'damage_received'])\n"
     ]
    }
   ],
   "source": [
    "all_players = matches[0]['players']['all_players'] \n",
    "print(all_players[0].keys())"
   ]
  },
  {
   "cell_type": "code",
   "execution_count": 12,
   "id": "206cd1ee",
   "metadata": {},
   "outputs": [
    {
     "name": "stdout",
     "output_type": "stream",
     "text": [
      "0\n"
     ]
    }
   ],
   "source": [
    "print(all_players[0]['currenttier'])"
   ]
  },
  {
   "cell_type": "code",
   "execution_count": null,
   "id": "4f535768",
   "metadata": {},
   "outputs": [],
   "source": [
    "print(all_players[0]['stats'])"
   ]
  },
  {
   "cell_type": "code",
   "execution_count": null,
   "id": "49031190",
   "metadata": {},
   "outputs": [],
   "source": [
    "print(all_players[0]['name'])\n",
    "\n",
    "hs=all_players[0]['stats']['headshots']\n",
    "bs=all_players[0]['stats']['bodyshots']\n",
    "ls=all_players[0]['stats']['legshots']\n",
    "\n",
    "\n",
    "\n",
    "print(headshot_percentage(hs, bs, ls))"
   ]
  },
  {
   "cell_type": "code",
   "execution_count": null,
   "id": "195f2afc",
   "metadata": {},
   "outputs": [],
   "source": []
  },
  {
   "cell_type": "code",
   "execution_count": null,
   "id": "9f9e264e",
   "metadata": {},
   "outputs": [],
   "source": []
  },
  {
   "cell_type": "code",
   "execution_count": null,
   "id": "4bea0ffa",
   "metadata": {},
   "outputs": [],
   "source": []
  },
  {
   "cell_type": "code",
   "execution_count": null,
   "id": "76e53dac",
   "metadata": {},
   "outputs": [],
   "source": []
  },
  {
   "cell_type": "code",
   "execution_count": null,
   "id": "08998447",
   "metadata": {},
   "outputs": [],
   "source": []
  }
 ],
 "metadata": {
  "kernelspec": {
   "display_name": "Python 3 (ipykernel)",
   "language": "python",
   "name": "python3"
  },
  "language_info": {
   "codemirror_mode": {
    "name": "ipython",
    "version": 3
   },
   "file_extension": ".py",
   "mimetype": "text/x-python",
   "name": "python",
   "nbconvert_exporter": "python",
   "pygments_lexer": "ipython3",
   "version": "3.9.2"
  }
 },
 "nbformat": 4,
 "nbformat_minor": 5
}
