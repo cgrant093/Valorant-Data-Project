{
 "cells": [
  {
   "cell_type": "markdown",
   "id": "949820a1",
   "metadata": {},
   "source": [
    "# Scrap Account Data"
   ]
  },
  {
   "cell_type": "markdown",
   "id": "9bb3a95a",
   "metadata": {},
   "source": [
    "#### Import necessary modules"
   ]
  },
  {
   "cell_type": "code",
   "execution_count": 2,
   "id": "ef148843",
   "metadata": {},
   "outputs": [],
   "source": [
    "import os\n",
    "\n",
    "import pandas as pd\n",
    "import matplotlib.pyplot as plt\n",
    "\n",
    "from FindMoreUsers import find_more_users\n",
    "\n",
    "from datetime import date"
   ]
  },
  {
   "cell_type": "markdown",
   "id": "c943831f",
   "metadata": {},
   "source": [
    "#### Find date to make new subfolder"
   ]
  },
  {
   "cell_type": "code",
   "execution_count": 3,
   "id": "ef4f640b",
   "metadata": {},
   "outputs": [
    {
     "name": "stdout",
     "output_type": "stream",
     "text": [
      "20220517\n"
     ]
    }
   ],
   "source": [
    "today = date.today()\n",
    "# YYYYmmdd\n",
    "folder = today.strftime(\"%Y%m%d\")\n",
    "print(folder)"
   ]
  },
  {
   "cell_type": "code",
   "execution_count": 12,
   "id": "b2ba00e4",
   "metadata": {},
   "outputs": [],
   "source": [
    "path = f'./{folder}/'\n",
    "data_path = f'{path}data/'\n",
    "\n",
    "## Check whether the specified path exists or not\n",
    "isExist = os.path.exists(data_path)\n",
    "\n",
    "if not isExist:\n",
    "    ## Create a new directory because it does not exist \n",
    "    os.makedirs(data_path)\n",
    "    print(\"The new directory is created!\")"
   ]
  },
  {
   "cell_type": "markdown",
   "id": "6f517323",
   "metadata": {},
   "source": [
    "#### Find new accounts from seeded accounts"
   ]
  },
  {
   "cell_type": "code",
   "execution_count": 14,
   "id": "0991f003",
   "metadata": {},
   "outputs": [],
   "source": [
    "def accounts_to_csv(depth, base_account):\n",
    "    set_of_accounts = find_more_users(base_account, set(), depth)\n",
    "    print(len(set_of_accounts))\n",
    "    \n",
    "    df = pd.DataFrame(set_of_accounts, columns = ['User', 'Tag', 'Rank', 'Position', 'KD', 'Assists', 'Headshot %', 'Ability Usage'])\n",
    "    df.to_csv(f'{base_account}_depth{depth}.csv', index=False)"
   ]
  },
  {
   "cell_type": "code",
   "execution_count": 9,
   "id": "3da601d3",
   "metadata": {},
   "outputs": [],
   "source": [
    "initial_set={\n",
    "        'me' : ('beta4days', 'dogw'),\n",
    "        'iron' : ('SEN Kyu', '9771'),\n",
    "        'bronze' : ('alam2881', 'NA111'),\n",
    "        'silver' : ('milk green tea', 'boba'),\n",
    "        'gold' : ('Tomato Taco', '5111'),\n",
    "        'platinum' : ('Symperion', '4KT'),\n",
    "        'diamond' : ('Kisuke', 'zzz'),\n",
    "        'immortal' : ('Toph', '00001'),\n",
    "        'radiant' : ('BabyJ', 'Halo'),\n",
    "}\n",
    "\n",
    "depth = 3"
   ]
  },
  {
   "cell_type": "code",
   "execution_count": null,
   "id": "01e93f44",
   "metadata": {},
   "outputs": [],
   "source": [
    "accounts_to_csv(depth, initial_set['me'])"
   ]
  },
  {
   "cell_type": "code",
   "execution_count": null,
   "id": "bf29fe9d",
   "metadata": {},
   "outputs": [],
   "source": [
    "accounts_to_csv(depth, initial_set['iron'])"
   ]
  },
  {
   "cell_type": "code",
   "execution_count": null,
   "id": "bc199e00",
   "metadata": {},
   "outputs": [],
   "source": [
    "accounts_to_csv(depth, initial_set['bronze'])"
   ]
  },
  {
   "cell_type": "code",
   "execution_count": 38,
   "id": "12a46c68",
   "metadata": {},
   "outputs": [
    {
     "name": "stdout",
     "output_type": "stream",
     "text": [
      "565\n"
     ]
    }
   ],
   "source": [
    "accounts_to_csv(depth, initial_set['silver'])"
   ]
  },
  {
   "cell_type": "code",
   "execution_count": 23,
   "id": "bee59f4f",
   "metadata": {},
   "outputs": [
    {
     "name": "stdout",
     "output_type": "stream",
     "text": [
      "951\n"
     ]
    }
   ],
   "source": [
    "accounts_to_csv(depth, initial_set['gold'])"
   ]
  },
  {
   "cell_type": "code",
   "execution_count": null,
   "id": "d6051be4",
   "metadata": {},
   "outputs": [],
   "source": [
    "accounts_to_csv(depth, initial_set['platinum'])"
   ]
  },
  {
   "cell_type": "code",
   "execution_count": null,
   "id": "24bbd2f8",
   "metadata": {},
   "outputs": [],
   "source": [
    "accounts_to_csv(depth, initial_set['diamond'])"
   ]
  },
  {
   "cell_type": "code",
   "execution_count": 24,
   "id": "40daa78b",
   "metadata": {},
   "outputs": [
    {
     "name": "stdout",
     "output_type": "stream",
     "text": [
      "883\n"
     ]
    }
   ],
   "source": [
    "accounts_to_csv(depth, initial_set['immortal'])"
   ]
  },
  {
   "cell_type": "code",
   "execution_count": 25,
   "id": "7530bca5",
   "metadata": {},
   "outputs": [
    {
     "name": "stdout",
     "output_type": "stream",
     "text": [
      "709\n"
     ]
    }
   ],
   "source": [
    "accounts_to_csv(depth, initial_set['radiant'])"
   ]
  },
  {
   "cell_type": "markdown",
   "id": "0b08a8b5",
   "metadata": {},
   "source": [
    "#### Merges all csv files into one and removed duplicate rows"
   ]
  },
  {
   "cell_type": "code",
   "execution_count": 47,
   "id": "48424863",
   "metadata": {},
   "outputs": [
    {
     "name": "stdout",
     "output_type": "stream",
     "text": [
      "7519\n"
     ]
    }
   ],
   "source": [
    "df = pd.DataFrame()\n",
    "\n",
    "files = [file for file in os.listdir(data_path) if os.path.isfile(os.path.join(data_path, file))]\n",
    "\n",
    "for file in files:\n",
    "    df = pd.concat([df, pd.read_csv(f'{data_path}{file}')])\n",
    "    \n",
    "df = df.drop_duplicates(subset=['User', 'Tag'], keep='last')\n",
    "\n",
    "print(df.shape[0])\n",
    "df.head()\n",
    "\n",
    "df.to_csv(f'{subpath}total_accounts_list.csv', index=False)"
   ]
  },
  {
   "cell_type": "markdown",
   "id": "ac474028",
   "metadata": {},
   "source": [
    "#### Plots current rank distribution I have"
   ]
  },
  {
   "cell_type": "code",
   "execution_count": 48,
   "id": "0e2faa74",
   "metadata": {},
   "outputs": [],
   "source": [
    "rank_order = ['Iron 1', 'Iron 2', 'Iron 3', \n",
    "              'Bronze 1', 'Bronze 2', 'Bronze 3',\n",
    "              'Silver 1', 'Silver 2', 'Silver 3',\n",
    "              'Gold 1', 'Gold 2', 'Gold 3',\n",
    "              'Platinum 1', 'Platinum 2', 'Platinum 3',\n",
    "              'Diamond 1', 'Diamond 2', 'Diamond 3',\n",
    "              'Immortal 1', 'Immortal 2', 'Immortal 3',\n",
    "              'Radiant']\n",
    "color_order = ['#5d5d5d', '#5d5d5d', '#5d5d5d', \n",
    "               '#966c18', '#966c18', '#966c18',\n",
    "               '#e1e8e7', '#e1e8e7', '#e1e8e7',\n",
    "               '#e9c44c', '#e9c44c', '#e9c44c',\n",
    "               '#52d5de', '#52d5de', '#52d5de',\n",
    "               '#f197f4', '#f197f4', '#f197f4',\n",
    "               '#b02638', '#b02638', '#b02638',\n",
    "               '#ffffb5']"
   ]
  },
  {
   "cell_type": "code",
   "execution_count": 49,
   "id": "a67c56a2",
   "metadata": {},
   "outputs": [
    {
     "name": "stdout",
     "output_type": "stream",
     "text": [
      "Rank\n",
      "Iron 1         90\n",
      "Iron 2        146\n",
      "Iron 3        319\n",
      "Bronze 1      408\n",
      "Bronze 2      509\n",
      "Bronze 3      513\n",
      "Silver 1      520\n",
      "Silver 2      419\n",
      "Silver 3      380\n",
      "Gold 1        451\n",
      "Gold 2        376\n",
      "Gold 3        417\n",
      "Platinum 1    366\n",
      "Platinum 2    260\n",
      "Platinum 3    208\n",
      "Diamond 1     246\n",
      "Diamond 2     211\n",
      "Diamond 3     253\n",
      "Immortal 1    252\n",
      "Immortal 2    217\n",
      "Immortal 3    495\n",
      "Radiant       237\n",
      "Name: User, dtype: int64\n"
     ]
    }
   ],
   "source": [
    "groupby_ranked = df.groupby(['Rank']).count()['User']\n",
    "groupby_ranked = groupby_ranked.reindex(rank_order)\n",
    "print(groupby_ranked)\n",
    "\n",
    "groupby_ranked.to_csv(f'{subpath}rank_dist.csv', index=False)"
   ]
  },
  {
   "cell_type": "code",
   "execution_count": 50,
   "id": "868e3d3f",
   "metadata": {},
   "outputs": [
    {
     "data": {
      "image/png": "[encoded data removed]",
      "text/plain": [
       "<Figure size 432x288 with 1 Axes>"
      ]
     },
     "metadata": {
      "needs_background": "light"
     },
     "output_type": "display_data"
    }
   ],
   "source": [
    "plt.bar(rank_order, groupby_ranked, color=color_order)\n",
    "plt.xticks(rank_order, rotation='vertical', size=8)\n",
    "plt.ylabel('Total players in a rank')\n",
    "plt.xlabel('Rank')\n",
    "plt.save(f'{path}rank_dist.png')\n",
    "plt.show()\n",
    "\n",
    "# fairly similiar to distribution found on\n",
    "    # https://tracker.gg/valorant/leaderboards/ranked/all/default?page=1\n",
    "    # however, we need more mid and lower ranks to \n",
    "        # replicate the distribution on tracker.gg"
   ]
  },
  {
   "cell_type": "code",
   "execution_count": null,
   "id": "aa45479f",
   "metadata": {},
   "outputs": [],
   "source": []
  }
 ],
 "metadata": {
  "kernelspec": {
   "display_name": "Python 3 (ipykernel)",
   "language": "python",
   "name": "python3"
  },
  "language_info": {
   "codemirror_mode": {
    "name": "ipython",
    "version": 3
   },
   "file_extension": ".py",
   "mimetype": "text/x-python",
   "name": "python",
   "nbconvert_exporter": "python",
   "pygments_lexer": "ipython3",
   "version": "3.9.2"
  }
 },
 "nbformat": 4,
 "nbformat_minor": 5
}
